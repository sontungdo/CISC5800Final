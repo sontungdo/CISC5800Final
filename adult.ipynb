{
 "cells": [
  {
   "cell_type": "code",
   "execution_count": 1,
   "metadata": {},
   "outputs": [],
   "source": [
    "import neuralnet as nn\n",
    "import pandas as pd\n",
    "import numpy as np"
   ]
  },
  {
   "cell_type": "code",
   "execution_count": 2,
   "metadata": {},
   "outputs": [
    {
     "data": {
      "text/plain": [
       "48842"
      ]
     },
     "execution_count": 2,
     "metadata": {},
     "output_type": "execute_result"
    }
   ],
   "source": [
    "df = pd.read_csv('adult.csv')\n",
    "df = df.to_numpy()\n",
    "len(df)"
   ]
  },
  {
   "cell_type": "code",
   "execution_count": 3,
   "metadata": {},
   "outputs": [],
   "source": [
    "with open(\"adult.data\", \"r\") as f:\n",
    "    lines = f.readlines()\n",
    "\n",
    "df=[]\n",
    "for i in lines:\n",
    "    df.append(i.split(','))\n",
    "df=df[:-1]\n",
    "for i in range(len(df)):    \n",
    "    if (df[i][1] ==' Private'):   ## workclass(1)\n",
    "        df[i][1]=0\n",
    "    elif (df[i][1]== ' Never-worked'):\n",
    "        df[i][1]=2\n",
    "    else:\n",
    "        df[i][1]=1\n",
    "\n",
    "    if (df[i][3] ==' Bachelors'):   ## education(3)\n",
    "        df[i][3]=1\n",
    "    elif (df[i][3]== ' Masters' or ' Doctorate'):\n",
    "        df[i][3]=2\n",
    "    else:\n",
    "        df[i][3]=0\n",
    "\n",
    "    if (df[i][5] ==' Never-married'):   ## marital-status(5)\n",
    "        df[i][5]=0\n",
    "    else:\n",
    "        df[i][5]=1\n",
    "\n",
    "    if (df[i][8] ==' White'):   ## race(8)\n",
    "        df[i][8]=0\n",
    "    elif (df[i][8]== ' Asian-Pac-Islander'):\n",
    "        df[i][8]=1\n",
    "    elif (df[i][8]== ' Amer-Indian-Eskimo'):\n",
    "        df[i][8]=2\n",
    "    elif (df[i][8]== ' Black'):\n",
    "        df[i][8]=3\n",
    "    else:\n",
    "        df[i][8]=4\n",
    "    \n",
    "    if (df[i][9] ==' Male'):   ## sex(9)\n",
    "        df[i][9]=1\n",
    "    else:\n",
    "        df[i][9]=0\n",
    "\n",
    "    if (df[i][13] ==' United-States'):   ## native-country(13)\n",
    "        df[i][13]=1\n",
    "    else:\n",
    "        df[i][13]=0\n",
    "\n",
    "    if (df[i][14] ==' >50K\\n'):   ## class(14)\n",
    "        df[i][14]=1\n",
    "    else:\n",
    "        df[i][14]=0\n",
    "\n",
    "for i in df:   ## delete occupation(6) && relationship(7)\n",
    "    del i[6:8]  \n",
    "\n",
    "df = np.array([[int(j) for j in i] for i in df])"
   ]
  },
  {
   "cell_type": "code",
   "execution_count": 4,
   "metadata": {},
   "outputs": [
    {
     "name": "stdout",
     "output_type": "stream",
     "text": [
      "<class 'numpy.ndarray'> (32561, 13)\n"
     ]
    }
   ],
   "source": [
    "print(type(df), df.shape)"
   ]
  },
  {
   "cell_type": "code",
   "execution_count": 5,
   "metadata": {},
   "outputs": [],
   "source": [
    "split = 27000\n",
    "df_train = df[:split]\n",
    "df_test = df[split:]"
   ]
  },
  {
   "cell_type": "code",
   "execution_count": 31,
   "metadata": {},
   "outputs": [],
   "source": [
    "model = nn.Network()\n",
    "model.construct_network(12, [5, 2])"
   ]
  },
  {
   "cell_type": "code",
   "execution_count": 32,
   "metadata": {},
   "outputs": [
    {
     "name": "stdout",
     "output_type": "stream",
     "text": [
      ">epoch=0, lrate=0.100, error=10029.187\n",
      ">epoch=1, lrate=0.100, error=10026.740\n",
      ">epoch=2, lrate=0.100, error=10026.740\n"
     ]
    }
   ],
   "source": [
    "model.train(df_train, n_epoch=3, learning_rate=0.1, batch_size=1)"
   ]
  },
  {
   "cell_type": "code",
   "execution_count": 33,
   "metadata": {},
   "outputs": [
    {
     "name": "stdout",
     "output_type": "stream",
     "text": [
      "Result: 75.49% accuracy, 4198/5561 correct\n"
     ]
    },
    {
     "data": {
      "text/plain": [
       "0.7549001978061499"
      ]
     },
     "execution_count": 33,
     "metadata": {},
     "output_type": "execute_result"
    }
   ],
   "source": [
    "model.test_model(df_test)"
   ]
  }
 ],
 "metadata": {
  "interpreter": {
   "hash": "651c3b7b3f466eb030aa737f279c846be4db9cba49a2f229278cab5e41121ed5"
  },
  "kernelspec": {
   "display_name": "Python 3.8.8 ('base')",
   "language": "python",
   "name": "python3"
  },
  "language_info": {
   "codemirror_mode": {
    "name": "ipython",
    "version": 3
   },
   "file_extension": ".py",
   "mimetype": "text/x-python",
   "name": "python",
   "nbconvert_exporter": "python",
   "pygments_lexer": "ipython3",
   "version": "3.8.8"
  },
  "orig_nbformat": 4
 },
 "nbformat": 4,
 "nbformat_minor": 2
}
