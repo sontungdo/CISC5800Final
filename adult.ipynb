{
 "cells": [
  {
   "cell_type": "code",
   "execution_count": 1,
   "metadata": {},
   "outputs": [],
   "source": [
    "import neuralnet as nn\n",
    "import numpy as np"
   ]
  },
  {
   "cell_type": "code",
   "execution_count": 2,
   "metadata": {},
   "outputs": [],
   "source": [
    "# read file and pre-process\n",
    "with open(\"adult.data\", \"r\") as f:\n",
    "    lines = f.readlines()\n",
    "\n",
    "df=[]\n",
    "for i in lines:\n",
    "    df.append(i.split(','))\n",
    "df=df[:-1]\n",
    "for i in range(len(df)):    \n",
    "    if (df[i][1] ==' Private'):   ## workclass(1)\n",
    "        df[i][1]=0\n",
    "    elif (df[i][1]== ' Never-worked'):\n",
    "        df[i][1]=2\n",
    "    else:\n",
    "        df[i][1]=1\n",
    "\n",
    "    if (df[i][3] ==' Bachelors'):   ## education(3)\n",
    "        df[i][3]=1\n",
    "    elif (df[i][3]== ' Masters' or ' Doctorate'):\n",
    "        df[i][3]=2\n",
    "    else:\n",
    "        df[i][3]=0\n",
    "\n",
    "    if (df[i][5] ==' Never-married'):   ## marital-status(5)\n",
    "        df[i][5]=0\n",
    "    else:\n",
    "        df[i][5]=1\n",
    "\n",
    "    if (df[i][8] ==' White'):   ## race(8)\n",
    "        df[i][8]=0\n",
    "    elif (df[i][8]== ' Asian-Pac-Islander'):\n",
    "        df[i][8]=1\n",
    "    elif (df[i][8]== ' Amer-Indian-Eskimo'):\n",
    "        df[i][8]=2\n",
    "    elif (df[i][8]== ' Black'):\n",
    "        df[i][8]=3\n",
    "    else:\n",
    "        df[i][8]=4\n",
    "    \n",
    "    if (df[i][9] ==' Male'):   ## sex(9)\n",
    "        df[i][9]=1\n",
    "    else:\n",
    "        df[i][9]=0\n",
    "\n",
    "    if (df[i][13] ==' United-States'):   ## native-country(13)\n",
    "        df[i][13]=1\n",
    "    else:\n",
    "        df[i][13]=0\n",
    "\n",
    "    if (df[i][14] ==' >50K\\n'):   ## class(14)\n",
    "        df[i][14]=1\n",
    "    else:\n",
    "        df[i][14]=0\n",
    "\n",
    "for i in df:   ## delete occupation(6) && relationship(7)\n",
    "    del i[6:8]  \n",
    "    del i[2]\n",
    "\n",
    "df = np.array([[int(j) for j in i] for i in df])"
   ]
  },
  {
   "cell_type": "code",
   "execution_count": 3,
   "metadata": {},
   "outputs": [
    {
     "name": "stdout",
     "output_type": "stream",
     "text": [
      "<class 'numpy.ndarray'> (32561, 12)\n",
      "[[ 0  1 -2 ...  0  0  0]\n",
      " [ 0  1 -2 ... -2  0  0]\n",
      " [ 0  0  0 ...  0  0  0]\n",
      " ...\n",
      " [ 1  0  0 ...  0  0  0]\n",
      " [-1  0  0 ... -1  0  0]\n",
      " [ 0  1  0 ...  0  0  1]]\n"
     ]
    }
   ],
   "source": [
    "print(type(df), df.shape)\n",
    "print(nn.normalize(df))"
   ]
  },
  {
   "cell_type": "code",
   "execution_count": 4,
   "metadata": {},
   "outputs": [],
   "source": [
    "split = 27000\n",
    "df_train = df[:split]\n",
    "df_test = df[split:]"
   ]
  },
  {
   "cell_type": "code",
   "execution_count": 29,
   "metadata": {},
   "outputs": [],
   "source": [
    "model = nn.Network()\n",
    "input_shape = df.shape[1]-1\n",
    "model.construct_network(input_shape, [1,2])"
   ]
  },
  {
   "cell_type": "code",
   "execution_count": 32,
   "metadata": {},
   "outputs": [
    {
     "name": "stdout",
     "output_type": "stream",
     "text": [
      "[[-0.34560532 -0.08880443 -0.94081387 -0.28074139 -0.47236345  0.29373946\n",
      "   0.25529712  0.46958917 -0.19584196 -0.41596786 -0.9671897  -0.77915644]]\n"
     ]
    }
   ],
   "source": [
    "print(model.net[0].weights)\n",
    "#print(model.net[1].weights)"
   ]
  },
  {
   "cell_type": "code",
   "execution_count": 31,
   "metadata": {},
   "outputs": [
    {
     "name": "stdout",
     "output_type": "stream",
     "text": [
      ">epoch=1/3, loss=0.40309, time=-2.14293s/epoch\n",
      ">epoch=2/3, loss=0.36632, time=-2.20534s/epoch\n",
      ">epoch=3/3, loss=0.36599, time=-2.21408s/epoch\n",
      "Training complete\n"
     ]
    }
   ],
   "source": [
    "model.train(df_train, n_epoch=3, learning_rate=0.1, batch_size=100)"
   ]
  },
  {
   "cell_type": "code",
   "execution_count": 33,
   "metadata": {},
   "outputs": [
    {
     "name": "stdout",
     "output_type": "stream",
     "text": [
      "Result: 75.49% accuracy, 4198/5561 correct\n"
     ]
    },
    {
     "data": {
      "text/plain": [
       "0.7549001978061499"
      ]
     },
     "execution_count": 33,
     "metadata": {},
     "output_type": "execute_result"
    }
   ],
   "source": [
    "model.test_model(df_test)"
   ]
  },
  {
   "cell_type": "code",
   "execution_count": 34,
   "metadata": {},
   "outputs": [
    {
     "name": "stdout",
     "output_type": "stream",
     "text": [
      "[0.7310206 0.2689794]\n",
      "[0.73664747 0.26335253]\n",
      "[0.72362672 0.27637328]\n",
      "[0.73941074 0.26058926]\n",
      "[0.73612289 0.26387711]\n",
      "[0.73529988 0.26470012]\n",
      "[0.73334395 0.26665605]\n",
      "[0.73708709 0.26291291]\n",
      "[0.73831778 0.26168222]\n",
      "[0.73064318 0.26935682]\n"
     ]
    }
   ],
   "source": [
    "for i in range(10):\n",
    "    model.forward_propagate(df_test[i,:-1])\n",
    "    print(model.get_output())"
   ]
  }
 ],
 "metadata": {
  "interpreter": {
   "hash": "651c3b7b3f466eb030aa737f279c846be4db9cba49a2f229278cab5e41121ed5"
  },
  "kernelspec": {
   "display_name": "Python 3.8.8 ('base')",
   "language": "python",
   "name": "python3"
  },
  "language_info": {
   "codemirror_mode": {
    "name": "ipython",
    "version": 3
   },
   "file_extension": ".py",
   "mimetype": "text/x-python",
   "name": "python",
   "nbconvert_exporter": "python",
   "pygments_lexer": "ipython3",
   "version": "3.8.8"
  },
  "orig_nbformat": 4
 },
 "nbformat": 4,
 "nbformat_minor": 2
}
